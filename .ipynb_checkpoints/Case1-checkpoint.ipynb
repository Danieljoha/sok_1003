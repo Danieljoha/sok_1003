{
 "cells": [
  {
   "cell_type": "markdown",
   "id": "f7183bc1-2284-4311-9273-743fa73e63a7",
   "metadata": {},
   "source": [
    "# Mappeoppgave 1\n",
    "## <u>Beskrivelse\n",
    "Les oppgaveteksten nøye. Se hvordan man leverer oppgaven <th><a href='https://uit-sok-1003-h22.github.io/semesteroppgave.html'>her</a> </th> og  <th><a href='https://uit-sok-1003-h22.github.io/github.html'>her</a>. Husk at den skal leveres både som jupyter-fil og som PDF. Kommenter kodene du skriver i alle oppgaver og vær nøye på å definere aksene mm i figurer. I noen av oppgavetekstene står det hint, men det betyr ikke at de ikke kan løses på andre måter\n",
    "\n",
    "##### For å hente denne filen til Jupyter gjør du slik:\n",
    "\n",
    "<ol>\n",
    "<li>Åpne et \"terminalvindu\"\n",
    "<li>Gå til hjemmeområdet ditt\n",
    "    \n",
    "    \n",
    "    [user@jupty02 ~]$ cd\n",
    "<li>Lag en ny mappe på ditt hjemmeområde ved å skrive inn i terminalvinduet \n",
    "\n",
    "    [user@jupty02 ~]$ mkdir SOK-1003-eksamen-2022-mappe1 \n",
    "\n",
    "<li>Gå så inn i den mappen du har laget ved å skrive\n",
    "\n",
    "    [user@jupty02 ~]$ cd SOK-1003-eksamen-2022-mappe1 \n",
    "<li> Last ned kursmateriellet ved å kopiere inn følgende kommando i kommandovinduet:\n",
    "\n",
    "    [user@jupty02 sok-1003]$ git clone https://github.com/uit-sok-1003-h22/mappe/\n",
    "</ol> \n",
    "<br> Oppgi gruppenavn m/ medlemmer på epost o.k.aars@uit.no innen 7/10, så blir dere satt opp til tidspunkt for presentasjon 19/10. \n",
    "<br>Bruk så denne filen til å gjøre besvarelsen din. Ved behov; legg til flere celler ved å trykke \"b\"\n",
    "</br>\n",
    "<hr>"
   ]
  },
  {
   "cell_type": "code",
   "execution_count": 1,
   "id": "24aba1c1-a19b-4c95-9e3c-a6154d9f543a",
   "metadata": {},
   "outputs": [
    {
     "ename": "SyntaxError",
     "evalue": "invalid syntax (3791658313.py, line 1)",
     "output_type": "error",
     "traceback": [
      "\u001b[0;36m  Input \u001b[0;32mIn [1]\u001b[0;36m\u001b[0m\n\u001b[0;31m    Legg till kommentarer i kode og sjekk labels.\u001b[0m\n\u001b[0m         ^\u001b[0m\n\u001b[0;31mSyntaxError\u001b[0m\u001b[0;31m:\u001b[0m invalid syntax\n"
     ]
    }
   ],
   "source": [
    "Legg till kommentarer i kode og sjekk labels. \n",
    "\n",
    "\n",
    "Oppgave 1\n",
    "kommenter kode.\n",
    "\n",
    "Oppgave 2\n",
    "Omgjør. lag en X. kommenter kode.\n",
    "\n",
    "Oppgave 3\n",
    "Kommenter kode\n",
    "Sette ned verdi på Y akse. for eks dele på 1e6\n",
    "\n",
    "Reel befolkning=inn/utvandring\n",
    "\n",
    "fjern ÆØÅ\n",
    "\n",
    "Oppgave 4\n",
    "\n",
    "Prøv å forandre 4D istedet for år*12-1e6. ny fu\n",
    "\n",
    "\n",
    "\n",
    "\n",
    "\n",
    "\n",
    "\n",
    "\n",
    "\n"
   ]
  },
  {
   "cell_type": "code",
   "execution_count": 2,
   "id": "f997b7bb-b8d9-4cb7-83fc-8eaa8e670eab",
   "metadata": {},
   "outputs": [],
   "source": [
    "import numpy as np\n",
    "from matplotlib import pyplot as plt"
   ]
  },
  {
   "cell_type": "markdown",
   "id": "6578a453-0dfe-4f86-b2c4-0bbd934987c3",
   "metadata": {},
   "source": [
    "## <u> Oppgavene\n",
    "\n",
    "### Oppgave 1 (5 poeng)\n",
    "a) Lag en kort fortelling i en python kode som inkluderer alle de fire typer variabler vi har lært om i kurset. Koden skal kunne kjøres med print(). Koden burde inneholde utregninger av elementer du har definert\n"
   ]
  },
  {
   "cell_type": "code",
   "execution_count": 4,
   "id": "92c6740e-90f9-4a78-a331-5496fdc06b0e",
   "metadata": {},
   "outputs": [
    {
     "name": "stdin",
     "output_type": "stream",
     "text": [
      "Vil du at Harald skal få råd til is? ja eller nei:  nnei\n"
     ]
    },
    {
     "name": "stdout",
     "output_type": "stream",
     "text": [
      "EYOO!!! ikke rett! du må velge enten ja eller nei\n"
     ]
    }
   ],
   "source": [
    "prisen_på_isen = float(24.50)   #definer prisen på isen\n",
    "penger = int(20)                #definer penger du har\n",
    "bigmoney = int(30)              #definer penger du har\n",
    "glad = True                     #definerer om du er glad\n",
    "\n",
    "\n",
    "user_input = input (\"Vil du at Harald skal få råd til is? ja eller nei: \").strip().lower()                  #legger til muligheten for å bestemme interaktivt om Harald skal få is eller ikke\n",
    "\n",
    "if user_input == \"ja\":                                                                                      #hvis du vil ha råd til is\n",
    "\n",
    "    print(f\"\"\"Det var en gang en bitte liten gutt som heter Harald \\n       \n",
    "\n",
    "Harald skal kjøpe en is, isen koster {prisen_på_isen} kroner \\n             \n",
    "\n",
    "Harald har {bigmoney} kroner i lommeboka\\n\n",
    "\n",
    "Kassedama seier at Harald får {bigmoney - prisen_på_isen} kroner tilbake etter han har kjøpt isen \\n\n",
    "\n",
    "\n",
    "Harald går hjem med en is i hånda å er veldig glad {glad} story\\n\n",
    "\n",
    "\\n\"\"\")                                                                                                      #printe ut historien om Harald som har kjøpt is\n",
    "    \n",
    "elif user_input == \"nei\":                                                                                   #hvis du ikke vil ha råd til is \n",
    "    glad=False\n",
    "    print(f\"\"\"Det var en gang en bitte liten gutt som heter Harald \\n\n",
    "\n",
    "Harald skal kjøpe en is, isen koster {prisen_på_isen} kroner \\n\n",
    "\n",
    "Harald har {penger} kroner i lommeboka\\n\n",
    "\n",
    "Kassedama sier at Harald mangler {prisen_på_isen-penger} kroner for å kjøpe isen \\n\n",
    "\n",
    "Harald går hjem uten is og er veldig trist og lei seg {glad} story \\n\n",
    "\n",
    "\\n\"\"\")\n",
    "    \n",
    "else:\n",
    "    print(\"EYOO!!! ikke rett! du må velge enten ja eller nei\")                                              #hvis du velger noe annet enn ja eller nei "
   ]
  },
  {
   "cell_type": "markdown",
   "id": "843a6ebc-9a7d-449a-848e-1776d8b3e2ab",
   "metadata": {},
   "source": [
    "### Oppgave 2 (10 poeng)"
   ]
  },
  {
   "cell_type": "markdown",
   "id": "65c0f196-e9c4-447f-be5a-7e08643fc38d",
   "metadata": {},
   "source": [
    "Leieprisene i landet har steget de siste månedene. Ved å bruke realistiske tall<br> \n",
    "a) Lag tilbuds og etterspørselsfunksjoner for leie av bolig (Bruk av ikke-lineære funksjoner belønnes). <br>\n",
    " <br> Definer funksjonene slik at det er mulig å finne en likevekt\n",
    "\n",
    "\n",
    "\n"
   ]
  },
  {
   "cell_type": "code",
   "execution_count": 5,
   "id": "7d86454c-767f-4b08-ba51-585165c03e7c",
   "metadata": {},
   "outputs": [
    {
     "name": "stdout",
     "output_type": "stream",
     "text": [
      "12256.691693142177\n",
      "12434.488441892703\n",
      "11821.857120000002\n",
      "12452.852114722922\n"
     ]
    }
   ],
   "source": []
  },
  {
   "cell_type": "markdown",
   "id": "8994d05c-3eff-428b-9cc3-c52817cba507",
   "metadata": {},
   "source": [
    "b) Vis at disse er henholdvis fallende og stigende, ved bruk av\n",
    "- Regning\n",
    "- figurativt (matplotlib) \n",
    "Husk å markere aksene tydelig og at funskjonene er definert slik at linjene krysser"
   ]
  },
  {
   "cell_type": "code",
   "execution_count": 6,
   "id": "8707e3ee-2227-4e0d-b3ba-a92ae302e028",
   "metadata": {},
   "outputs": [
    {
     "data": {
      "text/plain": [
       "<matplotlib.collections.PathCollection at 0x7f4c35698e50>"
      ]
     },
     "execution_count": 6,
     "metadata": {},
     "output_type": "execute_result"
    },
    {
     "data": {
      "image/png": "[encoded data removed]",
      "text/plain": [
       "<Figure size 432x288 with 1 Axes>"
      ]
     },
     "metadata": {
      "needs_background": "light"
     },
     "output_type": "display_data"
    }
   ],
   "source": []
  },
  {
   "cell_type": "markdown",
   "id": "8a528c27-c3d6-469f-824f-f89e217d1194",
   "metadata": {},
   "source": [
    "c) Kommenter funksjonene og likevekten. Vis gjerne figurativt hvor likevekten er ved bruk av scatter"
   ]
  },
  {
   "cell_type": "code",
   "execution_count": 7,
   "id": "a1860645-9814-41aa-944e-4e28be9da46d",
   "metadata": {},
   "outputs": [],
   "source": []
  },
  {
   "cell_type": "markdown",
   "id": "dc7ec86f-9b5e-4e32-8ade-d95cfeb93d29",
   "metadata": {},
   "source": [
    "### Oppgave 3 (15 poeng)"
   ]
  },
  {
   "cell_type": "markdown",
   "id": "ffd4601d-7863-4b7d-a3ca-56153fb5143f",
   "metadata": {},
   "source": [
    "SSB har omfattende data på befolkningsutvikling (https://www.ssb.no/statbank/table/05803/tableViewLayout1/). Disse dataene skal du bruke i de neste deloppgavene.\n",
    "\n",
    "a) lag lister av følgende variabler: \"Befolkning 1. januar\", \"Døde i alt\", \"Innflyttinger\" og \"Utflyttinger\". Velg selv variabelnavn når du definerer dem i python. Første element i hver liste skal være variabelnavnet. Bruk tall for perioden 2012-2021. Lag så en liste av disse listene. Du kan kalle den \"ssb\". \n",
    "<br><br>\n",
    "<b>Hint:</b> når du skal velge variabler på SSB sin nettside må du holde inne ctrl for å velge flere variabler.\n"
   ]
  },
  {
   "cell_type": "code",
   "execution_count": 8,
   "id": "89588a39-4307-4a7f-ba4e-91ac7a8a8b66",
   "metadata": {},
   "outputs": [
    {
     "name": "stdout",
     "output_type": "stream",
     "text": [
      "[['år', 2012, 2013, 2014, 2015, 2016, 2017, 2018, 2019, 2020, 2021], ['befolkning', 4985870, 5051275, 5109056, 5165802, 5213985, 5258317, 5295619, 5328212, 5367580, 5391369], ['døde', 41992, 41282, 40394, 40727, 40726, 40774, 40840, 40684, 40611, 42002], ['innflytting', 78570, 75789, 70030, 67276, 66800, 58192, 52485, 52153, 38071, 53947], ['utflytting', 31227, 35716, 31875, 37474, 40724, 36843, 34382, 26826, 26744, 34297]]\n"
     ]
    }
   ],
   "source": [
    "år = ['år', 2012, 2013, 2014, 2015, 2016, 2017, 2018, 2019, 2020, 2021]\n",
    "befolkning = ['befolkning',4985870, 5051275, 5109056, 5165802, 5213985, 5258317, 5295619, 5328212, 5367580, 5391369]\n",
    "døde_i_alt = ['døde',41992, 41282, 40394, 40727, 40726, 40774, 40840, 40684, 40611, 42002]\n",
    "inn = ['innflytting',78570, 75789, 70030, 67276, 66800, 58192, 52485, 52153, 38071, 53947]\n",
    "ut = ['utflytting',31227, 35716, 31875, 37474, 40724, 36843, 34382, 26826, 26744, 34297]\n",
    "ssb = [år, befolkning, døde_i_alt, inn, ut]\n",
    "print(ssb)"
   ]
  },
  {
   "cell_type": "markdown",
   "id": "d73fb1db-1b16-41e8-afed-b88af54053cd",
   "metadata": {},
   "source": [
    "b) konverter \"ssb\" til en numpy matrise og gi den et nytt navn"
   ]
  },
  {
   "cell_type": "code",
   "execution_count": 9,
   "id": "2575453b-d523-49b8-98e7-6c2c6f31fc0b",
   "metadata": {},
   "outputs": [
    {
     "data": {
      "text/plain": [
       "array([['år', '2012', '2013', '2014', '2015', '2016', '2017', '2018',\n",
       "        '2019', '2020', '2021'],\n",
       "       ['befolkning', '4985870', '5051275', '5109056', '5165802',\n",
       "        '5213985', '5258317', '5295619', '5328212', '5367580', '5391369'],\n",
       "       ['døde', '41992', '41282', '40394', '40727', '40726', '40774',\n",
       "        '40840', '40684', '40611', '42002'],\n",
       "       ['innflytting', '78570', '75789', '70030', '67276', '66800',\n",
       "        '58192', '52485', '52153', '38071', '53947'],\n",
       "       ['utflytting', '31227', '35716', '31875', '37474', '40724',\n",
       "        '36843', '34382', '26826', '26744', '34297']], dtype='<U21')"
      ]
     },
     "execution_count": 9,
     "metadata": {},
     "output_type": "execute_result"
    }
   ],
   "source": [
    "np_ssb=np.array(ssb)\n",
    "np_ssb"
   ]
  },
  {
   "cell_type": "markdown",
   "id": "7948aec6-fbe4-4076-b781-13f00d7892a0",
   "metadata": {},
   "source": [
    "c) Putt alle tallene inn i en egen matrise og konverter disse til int "
   ]
  },
  {
   "cell_type": "code",
   "execution_count": 10,
   "id": "a4adefaa-98e0-4e84-82c5-5099eced6d05",
   "metadata": {},
   "outputs": [
    {
     "data": {
      "text/plain": [
       "array([[   2012,    2013,    2014,    2015,    2016,    2017,    2018,\n",
       "           2019,    2020,    2021],\n",
       "       [4985870, 5051275, 5109056, 5165802, 5213985, 5258317, 5295619,\n",
       "        5328212, 5367580, 5391369],\n",
       "       [  41992,   41282,   40394,   40727,   40726,   40774,   40840,\n",
       "          40684,   40611,   42002],\n",
       "       [  78570,   75789,   70030,   67276,   66800,   58192,   52485,\n",
       "          52153,   38071,   53947],\n",
       "       [  31227,   35716,   31875,   37474,   40724,   36843,   34382,\n",
       "          26826,   26744,   34297]])"
      ]
     },
     "execution_count": 10,
     "metadata": {},
     "output_type": "execute_result"
    }
   ],
   "source": [
    "np_ssb=np.array(np_ssb[:,1:],dtype=int)\n",
    "np_ssb"
   ]
  },
  {
   "cell_type": "markdown",
   "id": "5cdb7248-c041-430e-828f-33f8f5fe3ea4",
   "metadata": {},
   "source": [
    "d) vis befolkningsutviklingen grafisk for de gjeldene årene ved bruk av matplotlib, og mer spesifikt \"fig, ax = plt.subplots()\". Vis befolkning på y-aksen i millioner"
   ]
  },
  {
   "cell_type": "code",
   "execution_count": 11,
   "id": "1aea3ebd-e525-471b-97cc-292b3d06099a",
   "metadata": {},
   "outputs": [
    {
     "data": {
      "text/plain": [
       "<matplotlib.collections.PathCollection at 0x7f4c2d5edd30>"
      ]
     },
     "execution_count": 11,
     "metadata": {},
     "output_type": "execute_result"
    },
    {
     "data": {
      "image/png": "[encoded data removed]",
      "text/plain": [
       "<Figure size 432x288 with 1 Axes>"
      ]
     },
     "metadata": {
      "needs_background": "light"
     },
     "output_type": "display_data"
    }
   ],
   "source": [
    "fig,ax=plt.subplots()\n",
    "ax.set_ylabel('millioner')\n",
    "ax.set_xlabel('befolkning')\n",
    "ax.scatter(np_ssb[0], np_ssb[1])"
   ]
  },
  {
   "cell_type": "markdown",
   "id": "91bfe9de-26e4-41dd-b12f-66e5ba714e8a",
   "metadata": {},
   "source": [
    "e) Lag det samme plottet ved bruk av oppslag. Hva er fordelen med dette?"
   ]
  },
  {
   "cell_type": "code",
   "execution_count": 12,
   "id": "5596bd22-3ba8-4ead-8adb-2547e304f75c",
   "metadata": {},
   "outputs": [
    {
     "name": "stdout",
     "output_type": "stream",
     "text": [
      "<class 'dict'>\n"
     ]
    },
    {
     "data": {
      "text/plain": [
       "<matplotlib.collections.PathCollection at 0x7f4c2d514a30>"
      ]
     },
     "execution_count": 12,
     "metadata": {},
     "output_type": "execute_result"
    },
    {
     "data": {
      "image/png": "[encoded data removed]",
      "text/plain": [
       "<Figure size 432x288 with 1 Axes>"
      ]
     },
     "metadata": {
      "needs_background": "light"
     },
     "output_type": "display_data"
    }
   ],
   "source": [
    "#fordelen med å bruke en nøkkel i kode er at koden ofte blir mere oversiktlig og lesbar\n",
    "plot_1={'år':np_ssb[0,:], 'tot':np_ssb[1,:]}\n",
    "\n",
    "print(type(plot_1))\n",
    "\n",
    "plt.ylabel('befolkning i millioner')\n",
    "plt.xlabel('årstall')\n",
    "plt.scatter(plot_1['år'], plot_1['tot'])"
   ]
  },
  {
   "cell_type": "markdown",
   "id": "fece5749-eed4-4b5a-92dc-e66bceae14d2",
   "metadata": {},
   "source": [
    "f) Hva er den relative befolkningstilveksten utenom fødsler (dvs. innvandring/utvandring)? Definer en ny array og legg den til i oppslaget du laget i oppgaven tidligere. Kall den \"rel_immigration\". Plot denne sammen med grafen du laget i (d). "
   ]
  },
  {
   "cell_type": "code",
   "execution_count": 13,
   "id": "f511ba92-873e-4114-87db-0a8737c6c582",
   "metadata": {},
   "outputs": [
    {
     "data": {
      "text/plain": [
       "<matplotlib.legend.Legend at 0x7f4c2d4c3820>"
      ]
     },
     "execution_count": 13,
     "metadata": {},
     "output_type": "execute_result"
    },
    {
     "data": {
      "image/png": "[encoded data removed]",
      "text/plain": [
       "<Figure size 432x288 with 1 Axes>"
      ]
     },
     "metadata": {
      "needs_background": "light"
     },
     "output_type": "display_data"
    }
   ],
   "source": [
    "np_inn = np.array(innflyttinger)                    #lager en numpy array av innflyttinger listen\n",
    "np_ut = np.array(utflyttinger)                      #lager en numpy array av utflyttinger listen\n",
    "np_befolkning = np.array(befolkning)                #lager en numpy array av befolkning listen\n",
    "\n",
    "vekst = np.array(np_inn-np_ut)/(np_befolkning)*100          #regner du ut veksten i prosent\n",
    "rel_immigration = np.array(vekst)                           #lager en numpy array av veksten i prosent   \n",
    "\n",
    "plot_1['rel_immigration']=rel_immigration[:]            #lager en nøkkel for plot 1   \n",
    "\n",
    "\n",
    "fig,ax=plt.subplots()                                   #lager et plot\n",
    "ax.set_ylabel('millioner')                              #setter y-aksen til å være millioner        \n",
    "ax.set_xlabel('befolkning')                             #setter x-aksen til å være befolkning\n",
    "ax.scatter(plot_1['år'], plot_1['rel_immigration']*10)  #plotter befolkning mot år\n",
    "rel_immigration                                         #printe ut numpy arrayen     "
   ]
  },
  {
   "cell_type": "markdown",
   "id": "fc0370be-f664-417f-885d-97b0f6aa22d6",
   "metadata": {},
   "source": [
    "g) ekstrapoeng. Kan plotte de samme tallene (dvs \"rel_immigration\" og \"befolkning\" sammen med år) i to figurer ved siden av hverandre ved bruk av \"fig, (ax1, ax2) = plt.subplots(1, 2)\". Gi grafene ulik farge\n"
   ]
  },
  {
   "cell_type": "code",
   "execution_count": 14,
   "id": "8dc8457a-7144-4bdb-a4d2-9e2c7fb5cac1",
   "metadata": {},
   "outputs": [
    {
     "data": {
      "text/plain": [
       "<matplotlib.legend.Legend at 0x7f4c2d3f59a0>"
      ]
     },
     "execution_count": 14,
     "metadata": {},
     "output_type": "execute_result"
    },
    {
     "data": {
      "image/png": "[encoded data removed]",
      "text/plain": [
       "<Figure size 432x288 with 2 Axes>"
      ]
     },
     "metadata": {
      "needs_background": "light"
     },
     "output_type": "display_data"
    }
   ],
   "source": [
    "fig,(ax1, ax2) =plt.subplots(1, 2)                      #lager et plot med 2 subplots\n",
    "\n",
    "plt.ylabel('befolkning i millioner')                    #setter y-aksen til å være befolkning i millioner\n",
    "plt.xlabel('årstall')                                   #setter x-aksen til å være årstall\n",
    "ax1.scatter(plot_1['år'], plot_1['befolkning'], color = \"red\")                    #plotter befolkning mot år i subplot 1 med rød farge\n",
    "ax2.scatter(plot_1['år'], plot_1['rel_immigration'], color = \"cornflowerblue\")    #plotter faktisk vekst i prosent mot år i subplot 2 med blå farge"
   ]
  },
  {
   "cell_type": "markdown",
   "id": "091a4c4b-0ab3-42b9-9576-de355e184baf",
   "metadata": {},
   "source": [
    "## Oppgave 4 (20 poeng)"
   ]
  },
  {
   "cell_type": "markdown",
   "id": "806a7eb9-8d04-4fb6-881d-9be4ef739401",
   "metadata": {},
   "source": [
    "Et lån består som regel av et månedlig terminbeløp. Dette beløpet er summen av avdrag (nedbetalingen på lånet) og renter. Vi antar månedlig forrenting i alle oppgavene. Dvs. at det er 12 terminer i hvert år.<br><br>\n",
    "a) Lag en funksjon som regner ut hvor mye lånet \"x\" koster deg i renteutgifter for \"t\" terminer med årlig rente \"r\" for et serielån. <br> <br>  Siden dette er et serielån, så vil avdragene være like hver måned men renteutgiftene reduseres i takt med avdragene. Renteutgiftene for en gitt termin \"t\" vil derfor være den årlige renten \"r\" (delt på antall forrentinger \"f\") på gjenværende beløp på det tidspunktet.   $renteutgifter_{t} = (x-a*t)*{r/f}$   <br>  <br> \n",
    "Siden vi er ute etter den totale kostnaden i svaret, må du summere renteutgiftene over alle terminer, det vil si $\\sum_{t=1}^N(x-a*t)*{r/f}$\n",
    "\n",
    "\n",
    "<br>\n",
    "<b>Hint:</b> siden terminbeløpet varierer for hver måned (pga at rentene endres), må alle enkeltperioder summeres. Det kan være nyttige å bruke funksjonen np.arange() til dette.\n"
   ]
  },
  {
   "cell_type": "code",
   "execution_count": 15,
   "id": "bc4e49f8-3534-45e3-8991-ec7d93cac329",
   "metadata": {},
   "outputs": [],
   "source": [
    "#x = lånet\n",
    "#t = terminer(månedlig = 12)\n",
    "#r = årlig rente\n",
    "#f = forrentninger\n",
    "#a = avdrag(?)\n",
    "\n",
    "\n",
    "def serielån(x, a, t, r, f):\n",
    "    return (x-a*t)*r/f #trenger ikke t-1 siden måten  vi lager arange arrayet. hadde jeg hatt (1, terminer) så hadde det ikke gått. \n",
    "#siden \"1\" er \n",
    "#den andre verdien. og 0 er den første.\n",
    "\n",
    "\n"
   ]
  },
  {
   "cell_type": "markdown",
   "id": "b85feca9-8641-4d22-b821-157d30ce8223",
   "metadata": {},
   "source": [
    "b) regn ut hvor mye lånet koster deg med henholdsvis 10, 20 og 30 års tilbakebetaling. Anta 1 000 000 kr lånebeløp med 3% rente"
   ]
  },
  {
   "cell_type": "code",
   "execution_count": 23,
   "id": "ca256d56-0705-42fe-bad5-248c5a81c935",
   "metadata": {},
   "outputs": [
    {
     "name": "stdout",
     "output_type": "stream",
     "text": [
      "Renteutgifter for lånet koster 151250.0kr for 10 år\n",
      "Renteutgifter for lånet koster 301250.0kr for 20 år\n",
      "Renteutgifter for lånet koster 451250.0kr for 30 år\n"
     ]
    }
   ],
   "source": [
    "årliste = [10, 20, 30]\n",
    "\n",
    "\n",
    "x=1000000 #lånebeløp\n",
    "f=12 #Forrentninger\n",
    "r=0.03 #Rente\n",
    "\n",
    "\n",
    "for år in årliste: #for loop, runner koden for hver verdi/index i listen\n",
    "    terminer=år*12 #år ganger terminer\n",
    "    a=x/terminer #lånebeløp delt på terminer\n",
    "    t=np.arange(terminer) #arange setter alle beløpene i et array\n",
    "    print(f\"Renteutgifter for lånet koster {sum(serielån(x, a, t, r, f))}kr for {år} år\") #setter til tekst ved bruk av f print {}\n",
    "\n",
    "    \n",
    "#print(len(serielån(x,a,t,r,f))) #passer på at mengden verdier er rett\n",
    "\n",
    "\n"
   ]
  },
  {
   "cell_type": "markdown",
   "id": "0dde7e5b-e8e5-4575-9473-8d621cb7c870",
   "metadata": {},
   "source": [
    "c) Vis hva det samme lånet koster som annuitetslån, dvs differansen mellom alle terminbeløp og lånebeløp.<br> <br> Annuitetslån gir like terminbeløp hver måned, men renten utgjør en større del av dette beløpet i starten. Terminbeløpet for et annuitetslån er definert ved formelen:\n",
    "$T = x*\\frac{r/f} {(1-(1+(r/f))^{-t})}$, hvor x=lånebeløp, r = årlig rente, t = terminer, f= antall forrentinger\n",
    "\n",
    "\n",
    "\n"
   ]
  },
  {
   "cell_type": "code",
   "execution_count": 18,
   "id": "245729d6-a3bf-4696-abfa-9525b9ce9820",
   "metadata": {},
   "outputs": [
    {
     "name": "stdout",
     "output_type": "stream",
     "text": [
      "Totalprisen er 158728.94kr for annuitetslån på 10 år.\n",
      "Totalprisen er 331034.23kr for annuitetslån på 20 år.\n",
      "Totalprisen er 517774.52kr for annuitetslån på 30 år.\n"
     ]
    }
   ],
   "source": [
    "\n",
    "\n",
    "def annuitetslån(x, r, f, t): \n",
    "    return x*((r/f)/(1-((1+(r/f))**-t)))\n",
    "\n",
    "årliste = [10, 20, 30]\n",
    "100000\n",
    "\n",
    "x=1000000 #lånebeløp\n",
    "f=12 #Forrentninger\n",
    "r=0.03 #Rente\n",
    "\n",
    "\n",
    "for år in årliste: #for loop, runner koden for hver verdi/index i listen\n",
    "    print(f\"Totalprisen er {round(annuitetslån(x, r, f, år*12) *år*12-1000000, 2)}kr for annuitetslån på {år} år.\")\n",
    "    \n",
    "\n"
   ]
  },
  {
   "cell_type": "markdown",
   "id": "64b32290-0ec7-41a1-b230-052fed8c5c0f",
   "metadata": {},
   "source": [
    "c) Vis hvordan utviklingen i rentekostnader og avdrag på terminer for serielån grafisk ved hjelp av stackplot funksjonen i matplotlib. Anta et bankinnskudd x = 1 000 000 kr, årlig rente r=3% og antall terminer t = 240 (det vil si 2 år). Siden vi må vise utviklingen per termin, husk at \"t\" også definerer hvilken måned vi er i. Dvs, hvis t=15, har det gått 1 år og 3 mnd med terminer. Se forøvrig relevante formler i oppgave (a) \n",
    "\n",
    "<br> \n",
    "\n",
    "<b>Hint1:</b> Siden avdragene er like for alle måneder, kan det være lurt å definere det månedlige avdraget som en liste og gange det med antall perioder. </br>\n",
    "<b>Hint2:</b> Siden vi er ute etter både rentekostnader og avdrag hver for seg, kan det være lurt å definere en funksjon for hver av dem. </br>\n"
   ]
  },
  {
   "cell_type": "code",
   "execution_count": 19,
   "id": "99651332-6550-4c92-ad78-34df073b9fab",
   "metadata": {},
   "outputs": [
    {
     "data": {
      "text/plain": [
       "<matplotlib.legend.Legend at 0x7f4c2d3a0c40>"
      ]
     },
     "execution_count": 19,
     "metadata": {},
     "output_type": "execute_result"
    },
    {
     "data": {
      "image/png": "[encoded data removed]",
      "text/plain": [
       "<Figure size 432x288 with 1 Axes>"
      ]
     },
     "metadata": {
      "needs_background": "light"
     },
     "output_type": "display_data"
    }
   ],
   "source": [
    "år=20\n",
    "\n",
    "terminer=år*12                                 #år ganger terminer\n",
    "a=x/terminer                                   #lånebeløp delt på terminer\n",
    "t=np.arange(terminer)                          #arange setter alle beløpene i et array\n",
    "labels=[\"Avdrag\", \"Rente\"]\n",
    "b=[a for i in range(240)]                      #lager termin array\n",
    "plt.ylabel('Månedsbetaling')\n",
    "plt.xlabel('Terminer')\n",
    "plt.stackplot(t, b, serielån(x, a, t, r, f), labels=labels)   #Lager stackplot der T er terminer, b er 0-240 for x aksen og serielån kommer som y akse.\n",
    "plt.legend(loc='upper right')\n",
    "\n"
   ]
  },
  {
   "cell_type": "code",
   "execution_count": 20,
   "id": "242d8016-78f7-4731-ae31-fa49050e7a93",
   "metadata": {},
   "outputs": [
    {
     "data": {
      "text/plain": [
       "<matplotlib.legend.Legend at 0x7f4c2c7cb2e0>"
      ]
     },
     "execution_count": 20,
     "metadata": {},
     "output_type": "execute_result"
    },
    {
     "data": {
      "image/png": "[encoded data removed]",
      "text/plain": [
       "<Figure size 432x288 with 1 Axes>"
      ]
     },
     "metadata": {
      "needs_background": "light"
     },
     "output_type": "display_data"
    }
   ],
   "source": [
    "def terminbeløp(x,r,f,t):\n",
    "    return x*((r/f)/(1-((1+(r/f))**-t)))\n",
    "\n",
    "årliste = [20]\n",
    "x=1000000\n",
    "f=12\n",
    "r=0.03\n",
    "xliste=[]\n",
    "avdragliste=[]\n",
    "rentekostliste=[]\n",
    "#avdrag = terminbeløp - lånbeløp * rente\n",
    "#rentekostnad =(lånbeløp - avdrag) * rente / termin\n",
    "\n",
    "avdrag=0\n",
    "for år in årliste:\n",
    "    for termin in range(år*12):\n",
    "        rentekostnad=(x-avdrag)*r/12\n",
    "        avdrag=terminbeløp(1000000,r,f,år*12)-x*r/12\n",
    "        x -= avdrag\n",
    "        xliste.append(round(x))\n",
    "        avdragliste.append(round(avdrag))\n",
    "        rentekostliste.append(round(rentekostnad))\n",
    "        \n",
    "\n",
    "tid=np.arange(240)\n",
    "\n",
    "labels=[\"Avdrag\", \"Rente\"]\n",
    "plt.ylabel('Månedsbetaling')\n",
    "plt.xlabel('Terminer')\n",
    "plt.stackplot(tid,avdragliste,rentekostliste, labels=labels)\n",
    "plt.legend(loc='lower right')\n"
   ]
  },
  {
   "cell_type": "code",
   "execution_count": 21,
   "id": "25fc1348-5fa1-4606-9bde-c1fcd86ada7d",
   "metadata": {},
   "outputs": [
    {
     "data": {
      "image/png": "[encoded data removed]",
      "text/plain": [
       "<Figure size 432x288 with 1 Axes>"
      ]
     },
     "metadata": {
      "needs_background": "light"
     },
     "output_type": "display_data"
    },
    {
     "data": {
      "image/png": "[encoded data removed]",
      "text/plain": [
       "<Figure size 432x288 with 1 Axes>"
      ]
     },
     "metadata": {
      "needs_background": "light"
     },
     "output_type": "display_data"
    },
    {
     "data": {
      "image/png": "[encoded data removed]",
      "text/plain": [
       "<Figure size 432x288 with 1 Axes>"
      ]
     },
     "metadata": {
      "needs_background": "light"
     },
     "output_type": "display_data"
    }
   ],
   "source": [
    "def terminbeløp(x,r,f,t):\n",
    "    return x*((r/f)/(1-((1+(r/f))**-t)))\n",
    "\n",
    "årliste = [10,20,30]\n",
    "#avdrag = terminbeløp - lånebeløp * rente\n",
    "#rentekostnad =(lånebeløp - avdrag) * rente / termin\n",
    "for år in årliste: #loop som kjører for hvert år i lista\n",
    "    x=1000000 # definerer variablene på nytt så hver kjøring har rette variabler\n",
    "    f=12\n",
    "    r=0.03\n",
    "    avdrag=0 #for den første rentekostnaden skal være rett\n",
    "    lånebeløpliste=[] # liste for plot, lager ny hvert nye år\n",
    "    avdragliste=[]\n",
    "    rentekostliste=[]\n",
    "    for termin in range(år*12):                          #koden kjører for hver eneste termin\n",
    "        rentekost=(x-avdrag)*r/12                        #regner ut hva den nye rentekostnaden er\n",
    "        avdrag=terminbeløp(1000000,r,f,år*12)-x*r/12     #regner ut hva det nye avdraget er\n",
    "        x -= avdrag                                      #regner ut det nye lånebeløpet\n",
    "        lånebeløpliste.append(x)                         #putter hver verdi i liste for plot\n",
    "        avdragliste.append(avdrag)\n",
    "        rentekostliste.append(rentekost)\n",
    "    \n",
    "    tid=np.arange(år*12)                                 #array med hver termin for plot\n",
    "    labels=[\"Avdrag\", \"Rente\"]\n",
    "    plt.ylabel('Månedsbetaling')\n",
    "    plt.xlabel('Terminer')\n",
    "    plt.stackplot(tid,avdragliste,rentekostliste, labels=labels)        #plotter\n",
    "    plt.legend(loc='lower right')\n",
    "    plt.show()                                           #for å dele opp plottene så alle 3 vises"
   ]
  },
  {
   "cell_type": "code",
   "execution_count": null,
   "id": "186a03c8-8b30-4fc3-b09c-f26f9d64320e",
   "metadata": {},
   "outputs": [],
   "source": []
  }
 ],
 "metadata": {
  "kernelspec": {
   "display_name": "Python 3 (ipykernel)",
   "language": "python",
   "name": "python3"
  },
  "language_info": {
   "codemirror_mode": {
    "name": "ipython",
    "version": 3
   },
   "file_extension": ".py",
   "mimetype": "text/x-python",
   "name": "python",
   "nbconvert_exporter": "python",
   "pygments_lexer": "ipython3",
   "version": "3.9.13"
  }
 },
 "nbformat": 4,
 "nbformat_minor": 5
}
