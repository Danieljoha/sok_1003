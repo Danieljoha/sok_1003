{
 "cells": [
  {
   "cell_type": "code",
   "execution_count": 15,
   "id": "6ddf9717-f836-4b2b-8d6e-9d39030df386",
   "metadata": {},
   "outputs": [
    {
     "data": {
      "text/latex": [
       "$\\displaystyle - 2 x + y = 4$"
      ],
      "text/plain": [
       "Eq(-2*x + y, 4)"
      ]
     },
     "execution_count": 15,
     "metadata": {},
     "output_type": "execute_result"
    }
   ],
   "source": [
    "import sympy as sp\n",
    "from sympy.solvers import solve\n",
    "\n",
    "#oppgave 15\n",
    "#1a)\n",
    "x,y = sp.symbols(\"x y\")\n",
    "unknown = [x, y]\n",
    "eq_a = [\n",
    "    sp.Eq(2*x+4*y,6),\n",
    "    sp.Eq(-2*x+y,4)\n",
    "]\n",
    "eq_a[1]"
   ]
  },
  {
   "cell_type": "code",
   "execution_count": 2,
   "id": "10d53d89-ccb5-4919-8586-905614e808c5",
   "metadata": {},
   "outputs": [
    {
     "data": {
      "text/plain": [
       "{x: -1, y: 2}"
      ]
     },
     "execution_count": 2,
     "metadata": {},
     "output_type": "execute_result"
    }
   ],
   "source": [
    "sp.solve(eq_a, unknown)"
   ]
  },
  {
   "cell_type": "code",
   "execution_count": 3,
   "id": "3e178f46-ec9e-4686-baf2-76c72c35d239",
   "metadata": {},
   "outputs": [
    {
     "data": {
      "text/latex": [
       "$\\displaystyle x^{2} + x - y = 1$"
      ],
      "text/plain": [
       "Eq(x**2 + x - y, 1)"
      ]
     },
     "execution_count": 3,
     "metadata": {},
     "output_type": "execute_result"
    }
   ],
   "source": [
    "#1b)\n",
    "x,y = sp.symbols(\"x y\")\n",
    "unknown = [x, y]\n",
    "eq_b= [\n",
    "    sp.Eq(2*x-y, -1),\n",
    "    sp.Eq(x**2+x-y,1)\n",
    "]\n",
    "eq_b[1]\n"
   ]
  },
  {
   "cell_type": "code",
   "execution_count": 4,
   "id": "fff7e666-d1e4-49ee-a07c-dd2bca29b994",
   "metadata": {},
   "outputs": [
    {
     "data": {
      "text/plain": [
       "[(-1, -1), (2, 5)]"
      ]
     },
     "execution_count": 4,
     "metadata": {},
     "output_type": "execute_result"
    }
   ],
   "source": [
    "sp.solve(eq_b, unknown)"
   ]
  },
  {
   "cell_type": "code",
   "execution_count": 5,
   "id": "8fb776f0-120f-424e-9aa9-1372986f0463",
   "metadata": {},
   "outputs": [
    {
     "data": {
      "text/plain": [
       "{x: 4, y: 0}"
      ]
     },
     "execution_count": 5,
     "metadata": {},
     "output_type": "execute_result"
    }
   ],
   "source": [
    "#2a\n",
    "#3x-12=-6y\n",
    "#4x-8y=16\n",
    "\n",
    "eq_1 = sp.Eq(3*x - 12, -6*y) \n",
    "eq_2 = sp.Eq(4*x- 8*y, 16)\n",
    "sp.solve([eq_1, eq_2],unknown)"
   ]
  },
  {
   "cell_type": "code",
   "execution_count": 6,
   "id": "a074ab6f-d28d-4082-a2b6-61f13405ac4d",
   "metadata": {},
   "outputs": [
    {
     "data": {
      "text/plain": [
       "[(-15/2, 31/4), (2, 3)]"
      ]
     },
     "execution_count": 6,
     "metadata": {},
     "output_type": "execute_result"
    }
   ],
   "source": [
    "#2b\n",
    "eq_1 = sp.Eq(x**2+4*x-3, 3*y) \n",
    "eq_2 = sp.Eq(2*y, 8-x)\n",
    "sp.solve([eq_1, eq_2],unknown)"
   ]
  },
  {
   "cell_type": "code",
   "execution_count": 7,
   "id": "e7ad3bee-4df8-40e3-8dba-1e31b18f63c0",
   "metadata": {},
   "outputs": [
    {
     "data": {
      "text/plain": [
       "{x: 2, y: 2}"
      ]
     },
     "execution_count": 7,
     "metadata": {},
     "output_type": "execute_result"
    }
   ],
   "source": [
    "#Oppgave 16\n",
    "#1a\n",
    "\n",
    "eq_1 = sp.Eq(4*x+2*y, 12) \n",
    "eq_2 = sp.Eq(6*x-2*y,8)\n",
    "sp.solve([eq_1, eq_2],unknown)"
   ]
  },
  {
   "cell_type": "code",
   "execution_count": 8,
   "id": "48bf6680-20fd-4e9c-83bf-d916bb9236fb",
   "metadata": {},
   "outputs": [
    {
     "data": {
      "text/plain": [
       "{x: 35/3, y: 5/6}"
      ]
     },
     "execution_count": 8,
     "metadata": {},
     "output_type": "execute_result"
    }
   ],
   "source": [
    "#1b\n",
    "\n",
    "eq_1 = sp.Eq(2*x+2*y, 25) \n",
    "eq_2 = sp.Eq(x-2*y, 10)\n",
    "sp.solve([eq_1, eq_2],unknown)"
   ]
  },
  {
   "cell_type": "code",
   "execution_count": 9,
   "id": "86920da6-cc88-4ddd-aa39-c2319b66ea73",
   "metadata": {},
   "outputs": [
    {
     "data": {
      "text/plain": [
       "{x: 4, y: 2}"
      ]
     },
     "execution_count": 9,
     "metadata": {},
     "output_type": "execute_result"
    }
   ],
   "source": [
    "#2a\n",
    "\n",
    "eq_1 = sp.Eq(4*x-4*y,8) \n",
    "eq_2 = sp.Eq(9*x-5*y, 26)\n",
    "sp.solve([eq_1, eq_2],unknown)"
   ]
  },
  {
   "cell_type": "code",
   "execution_count": 20,
   "id": "bdaec79c-1eb7-43d0-b5a5-ba35feab7f5e",
   "metadata": {},
   "outputs": [
    {
     "data": {
      "text/plain": [
       "[(-9, -2*sqrt(3)), (-9, 2*sqrt(3)), (7, -2), (7, 2)]"
      ]
     },
     "execution_count": 20,
     "metadata": {},
     "output_type": "execute_result"
    }
   ],
   "source": [
    "#2b\n",
    "eq_1 = sp.Eq(x+2*y**2, 15) \n",
    "eq_2 = sp.Eq(x**2-4*y**2, 33)\n",
    "sp.solve([eq_1, eq_2],unknown)"
   ]
  },
  {
   "cell_type": "code",
   "execution_count": 21,
   "id": "b245bc42-f7f3-43c0-b41c-4ec8a47b1c37",
   "metadata": {},
   "outputs": [
    {
     "data": {
      "text/plain": [
       "[(0, -4), (0, 4), (15, -1), (15, 1)]"
      ]
     },
     "execution_count": 21,
     "metadata": {},
     "output_type": "execute_result"
    }
   ],
   "source": [
    "#Oppgave 17 \n",
    "#1a)\n",
    "equations = [sp.Eq(x*y**2-x, 0),\n",
    "             sp.Eq(x+y**2, 16)]\n",
    "sp.solve(equations, [x, y])"
   ]
  },
  {
   "cell_type": "code",
   "execution_count": 24,
   "id": "77219815-7f6f-4bf2-9567-b317d96002b6",
   "metadata": {},
   "outputs": [
    {
     "data": {
      "text/plain": [
       "[(-10, 0), (-6, -8), (-6, 8), (6, -8), (6, 8), (10, 0)]"
      ]
     },
     "execution_count": 24,
     "metadata": {},
     "output_type": "execute_result"
    }
   ],
   "source": [
    "#1b)\n",
    "equations = [sp.Eq(x**2+y**2, 100),\n",
    "             sp.Eq(x**2*y - 36*y, 0)]\n",
    "sp.solve(equations, [x, y])"
   ]
  },
  {
   "cell_type": "code",
   "execution_count": 25,
   "id": "643a6310-5f90-40b5-a01d-cd8d73770de5",
   "metadata": {},
   "outputs": [
    {
     "data": {
      "text/plain": [
       "[(-3, -7), (-3, 7), (0, -sqrt(58)), (0, sqrt(58)), (3, -7), (3, 7)]"
      ]
     },
     "execution_count": 25,
     "metadata": {},
     "output_type": "execute_result"
    }
   ],
   "source": [
    "#2a)\n",
    "equations = [sp.Eq(x*y**2-49*x, 0),\n",
    "             sp.Eq(x**2+y**2, 58)]\n",
    "sp.solve(equations, [x, y])"
   ]
  },
  {
   "cell_type": "code",
   "execution_count": 26,
   "id": "f1e1873f-4a4d-4ed3-8541-50568743376c",
   "metadata": {},
   "outputs": [
    {
     "data": {
      "text/plain": [
       "[(-1.11803398874989, 0.0),\n",
       " (-0.500000000000000, -1.00000000000000),\n",
       " (-0.500000000000000, 1.00000000000000),\n",
       " (1.11803398874989, 0.0)]"
      ]
     },
     "execution_count": 26,
     "metadata": {},
     "output_type": "execute_result"
    }
   ],
   "source": [
    "#2b)\n",
    "equations = [sp.Eq(x**2+y**2, 5/4),\n",
    "             sp.Eq(2*x*y+y, 0)]\n",
    "sp.solve(equations, [x, y])\n"
   ]
  },
  {
   "cell_type": "code",
   "execution_count": 27,
   "id": "4f3113d3-a240-4105-adf1-3279f9650a56",
   "metadata": {},
   "outputs": [
    {
     "data": {
      "text/latex": [
       "$\\displaystyle 6 x^{2}$"
      ],
      "text/plain": [
       "6*x**2"
      ]
     },
     "execution_count": 27,
     "metadata": {},
     "output_type": "execute_result"
    }
   ],
   "source": [
    "#oppgave 19\n",
    "#d\n",
    "\n",
    "def d19(x):\n",
    "    return 2*x**3+sp.sqrt(36)\n",
    "d19(x)\n",
    "\n",
    "\n",
    "#1d versjon1\n",
    "def d19(x):\n",
    "    return 2*x**3 + sp.sqrt(36) #definerer den som en funksjon. Bruker sqrt for å skrive inn rot\n",
    "sp.diff(d19(x), x) #deriverer mhp x\n",
    "\n",
    "\n",
    "\n",
    "#1d versjon 2\n",
    "sp.diff(2*x**3 + sp.sqrt(36), x) #vi kunne også srkevet ut ligningen direkte i\n",
    "\n"
   ]
  },
  {
   "cell_type": "code",
   "execution_count": 28,
   "id": "f093074c-2719-43f4-ab32-a0a7581e3422",
   "metadata": {},
   "outputs": [
    {
     "data": {
      "text/latex": [
       "$\\displaystyle 5 x^{4}$"
      ],
      "text/plain": [
       "5*x**4"
      ]
     },
     "execution_count": 28,
     "metadata": {},
     "output_type": "execute_result"
    }
   ],
   "source": [
    "#Oppgave 19\n",
    "#1a)\n",
    "sp.diff(x**5, x)"
   ]
  },
  {
   "cell_type": "code",
   "execution_count": 29,
   "id": "252b9766-4126-4ae7-a430-003b950e5927",
   "metadata": {},
   "outputs": [
    {
     "data": {
      "text/latex": [
       "$\\displaystyle 1$"
      ],
      "text/plain": [
       "1"
      ]
     },
     "execution_count": 29,
     "metadata": {},
     "output_type": "execute_result"
    }
   ],
   "source": [
    "#1b)\n",
    "sp.diff(x+12, x)"
   ]
  },
  {
   "cell_type": "code",
   "execution_count": 30,
   "id": "576678a1-3a2b-4c31-b4b8-9ef1d8f9ed2d",
   "metadata": {},
   "outputs": [
    {
     "data": {
      "text/latex": [
       "$\\displaystyle 3 x^{2} + 8 x$"
      ],
      "text/plain": [
       "3*x**2 + 8*x"
      ]
     },
     "execution_count": 30,
     "metadata": {},
     "output_type": "execute_result"
    }
   ],
   "source": [
    "#1c)\n",
    "sp.diff(x**3 + 4*x**2, x)"
   ]
  },
  {
   "cell_type": "code",
   "execution_count": 31,
   "id": "5d717d89-2149-4a1b-9cfc-a9de75bba703",
   "metadata": {},
   "outputs": [
    {
     "data": {
      "text/latex": [
       "$\\displaystyle 6 x^{2}$"
      ],
      "text/plain": [
       "6*x**2"
      ]
     },
     "execution_count": 31,
     "metadata": {},
     "output_type": "execute_result"
    }
   ],
   "source": [
    "#1d)\n",
    "sp.diff(2*x**3 + sp.sqrt(36), x)"
   ]
  },
  {
   "cell_type": "code",
   "execution_count": 32,
   "id": "ada74789-1456-47af-abd7-4fa646a1de27",
   "metadata": {},
   "outputs": [
    {
     "data": {
      "text/latex": [
       "$\\displaystyle \\frac{1}{2 \\sqrt{x}}$"
      ],
      "text/plain": [
       "1/(2*sqrt(x))"
      ]
     },
     "execution_count": 32,
     "metadata": {},
     "output_type": "execute_result"
    }
   ],
   "source": [
    "#1e)\n",
    "sp.diff(sp.sqrt(x)+5**2, x)"
   ]
  },
  {
   "cell_type": "code",
   "execution_count": 33,
   "id": "402bf614-1d2d-4d6d-84d6-a519d4b0f64f",
   "metadata": {},
   "outputs": [
    {
     "data": {
      "text/latex": [
       "$\\displaystyle 3 x^{2} - \\frac{1}{x^{2}}$"
      ],
      "text/plain": [
       "3*x**2 - 1/x**2"
      ]
     },
     "execution_count": 33,
     "metadata": {},
     "output_type": "execute_result"
    }
   ],
   "source": [
    "#1f)\n",
    "sp.diff(x**3+1/x, x)"
   ]
  },
  {
   "cell_type": "code",
   "execution_count": 38,
   "id": "00e11d74-aa06-401d-a95f-baab6944dde8",
   "metadata": {},
   "outputs": [
    {
     "data": {
      "text/latex": [
       "$\\displaystyle 3 x^{2} - 2 x + 0.25$"
      ],
      "text/plain": [
       "3*x**2 - 2*x + 0.25"
      ]
     },
     "execution_count": 38,
     "metadata": {},
     "output_type": "execute_result"
    }
   ],
   "source": [
    "#1g)\n",
    "sp.diff(x**3-x**2+1/4*x, x)"
   ]
  },
  {
   "cell_type": "code",
   "execution_count": 40,
   "id": "f3d162d2-0a14-42e5-ab0c-d565ef78fb78",
   "metadata": {},
   "outputs": [
    {
     "data": {
      "text/latex": [
       "$\\displaystyle 36 x^{5} - \\frac{1}{x^{2}}$"
      ],
      "text/plain": [
       "36*x**5 - 1/x**2"
      ]
     },
     "execution_count": 40,
     "metadata": {},
     "output_type": "execute_result"
    }
   ],
   "source": [
    "#2a) \n",
    "sp.diff(1/x+6*x**6, x)"
   ]
  },
  {
   "cell_type": "code",
   "execution_count": 41,
   "id": "0fedf505-1e2b-488e-8b77-aa53e716870c",
   "metadata": {},
   "outputs": [
    {
     "data": {
      "text/latex": [
       "$\\displaystyle 1.5 x^{2} - 1$"
      ],
      "text/plain": [
       "1.5*x**2 - 1"
      ]
     },
     "execution_count": 41,
     "metadata": {},
     "output_type": "execute_result"
    }
   ],
   "source": [
    "#2b)\n",
    "sp.diff(-x+1/2*x**3, x)"
   ]
  },
  {
   "cell_type": "code",
   "execution_count": 42,
   "id": "71472319-a300-4011-87a8-90df7cc7d308",
   "metadata": {},
   "outputs": [
    {
     "data": {
      "text/latex": [
       "$\\displaystyle x^{2} + x \\left(2 x + 2\\right) + 2 x - 3$"
      ],
      "text/plain": [
       "x**2 + x*(2*x + 2) + 2*x - 3"
      ]
     },
     "execution_count": 42,
     "metadata": {},
     "output_type": "execute_result"
    }
   ],
   "source": [
    "#2c)\n",
    "sp.diff(x*(x**2+2*x-3), x)"
   ]
  },
  {
   "cell_type": "code",
   "execution_count": 43,
   "id": "9e8bb50a-fe47-4b30-8d85-aa75f383b0fe",
   "metadata": {},
   "outputs": [
    {
     "data": {
      "text/latex": [
       "$\\displaystyle \\sqrt[3]{x^{12}}$"
      ],
      "text/plain": [
       "(x**12)**(1/3)"
      ]
     },
     "execution_count": 43,
     "metadata": {},
     "output_type": "execute_result"
    }
   ],
   "source": [
    "#oppgave 20\n",
    "#1a)\n",
    "x = sp.symbols(\"x\")\n",
    "sp.root(x**12, 3) # slik det står i oppgaven. Her bruker vi \"root\" fordi vi må sette roten til 3"
   ]
  },
  {
   "cell_type": "code",
   "execution_count": 44,
   "id": "739ba03b-266d-49e5-aaf6-0421c4cbc031",
   "metadata": {},
   "outputs": [
    {
     "data": {
      "text/latex": [
       "$\\displaystyle x^{4}$"
      ],
      "text/plain": [
       "x**4"
      ]
     },
     "execution_count": 44,
     "metadata": {},
     "output_type": "execute_result"
    }
   ],
   "source": [
    "#1a fortsettelse\n",
    "x = sp.symbols(\"x\", positive=True) #sympy gjør forenklingen for oss, men kun hvis den vet at det ikke finnes andre løsninger. Hvis vi spesifiserer at det vi opererer med positive tall, gjør sympy det for oss\n",
    "sp.root(x**12, 3) "
   ]
  },
  {
   "cell_type": "code",
   "execution_count": 45,
   "id": "4e3a6f12-932a-461f-b9e6-18b9a275e1df",
   "metadata": {},
   "outputs": [
    {
     "data": {
      "text/latex": [
       "$\\displaystyle 9 x^{8}$"
      ],
      "text/plain": [
       "9*x**8"
      ]
     },
     "execution_count": 45,
     "metadata": {},
     "output_type": "execute_result"
    }
   ],
   "source": [
    "###Oppgave 20\n",
    "#e)\n",
    "sp.diff(x**4*x**5, x)"
   ]
  },
  {
   "cell_type": "code",
   "execution_count": 47,
   "id": "e57c522a-9683-4535-a570-610229cc2ad8",
   "metadata": {},
   "outputs": [
    {
     "data": {
      "text/latex": [
       "$\\displaystyle \\frac{3 \\sqrt{x}}{2}$"
      ],
      "text/plain": [
       "3*sqrt(x)/2"
      ]
     },
     "execution_count": 47,
     "metadata": {},
     "output_type": "execute_result"
    }
   ],
   "source": [
    "#1f)\n",
    "sp.diff(x*sp.sqrt(x), x)"
   ]
  },
  {
   "cell_type": "code",
   "execution_count": 48,
   "id": "21f439c6-bcf3-48bd-955b-32968747f5b7",
   "metadata": {},
   "outputs": [
    {
     "data": {
      "text/latex": [
       "$\\displaystyle - \\frac{6}{x^{4}}$"
      ],
      "text/plain": [
       "-6/x**4"
      ]
     },
     "execution_count": 48,
     "metadata": {},
     "output_type": "execute_result"
    }
   ],
   "source": [
    "#1g)\n",
    "sp.diff(2/x**3, x)"
   ]
  },
  {
   "cell_type": "code",
   "execution_count": 50,
   "id": "431ac27b-988d-4e05-b445-210e14a25a1a",
   "metadata": {},
   "outputs": [
    {
     "data": {
      "text/latex": [
       "$\\displaystyle \\frac{2}{x^{2}} - \\frac{3 \\left(x^{2} - 2\\right)}{x^{4}}$"
      ],
      "text/plain": [
       "2/x**2 - 3*(x**2 - 2)/x**4"
      ]
     },
     "execution_count": 50,
     "metadata": {},
     "output_type": "execute_result"
    }
   ],
   "source": [
    "#1h)\n",
    "sp.diff((x**2-2)/x**3, x)"
   ]
  },
  {
   "cell_type": "code",
   "execution_count": 51,
   "id": "19005e3d-bd5e-4089-8ad1-6862fc3323fb",
   "metadata": {},
   "outputs": [
    {
     "data": {
      "text/latex": [
       "$\\displaystyle \\frac{13 x^{\\frac{11}{2}}}{2}$"
      ],
      "text/plain": [
       "13*x**(11/2)/2"
      ]
     },
     "execution_count": 51,
     "metadata": {},
     "output_type": "execute_result"
    }
   ],
   "source": [
    "sp.diff(sp.sqrt(x)*x**6, x)"
   ]
  },
  {
   "cell_type": "code",
   "execution_count": 52,
   "id": "4f619eee-3da9-4cc2-8e6d-ab10bee7a431",
   "metadata": {},
   "outputs": [
    {
     "data": {
      "text/latex": [
       "$\\displaystyle 3 x^{2} + 1$"
      ],
      "text/plain": [
       "3*x**2 + 1"
      ]
     },
     "execution_count": 52,
     "metadata": {},
     "output_type": "execute_result"
    }
   ],
   "source": [
    "sp.diff(x*(x**2+1),x)"
   ]
  },
  {
   "cell_type": "code",
   "execution_count": 53,
   "id": "68bfc454-dadf-41f2-85cc-2a572de9ed3e",
   "metadata": {},
   "outputs": [
    {
     "data": {
      "text/latex": [
       "$\\displaystyle - \\frac{3 x^{2} \\left(x^{2} + 4\\right)}{\\left(x^{3} - 1\\right)^{2}} + \\frac{2 x}{x^{3} - 1}$"
      ],
      "text/plain": [
       "-3*x**2*(x**2 + 4)/(x**3 - 1)**2 + 2*x/(x**3 - 1)"
      ]
     },
     "execution_count": 53,
     "metadata": {},
     "output_type": "execute_result"
    }
   ],
   "source": [
    "#1k)\n",
    "sp.diff((x**2+4)/(x**3-1), x)"
   ]
  },
  {
   "cell_type": "code",
   "execution_count": 54,
   "id": "bba0ce7c-bc04-4858-9078-bd833de8bdc6",
   "metadata": {},
   "outputs": [
    {
     "data": {
      "text/latex": [
       "$\\displaystyle \\frac{x^{2} \\left(- 2 x - 2\\right)}{\\left(x^{2} + 2 x\\right)^{2}} + \\frac{2 x}{x^{2} + 2 x}$"
      ],
      "text/plain": [
       "x**2*(-2*x - 2)/(x**2 + 2*x)**2 + 2*x/(x**2 + 2*x)"
      ]
     },
     "execution_count": 54,
     "metadata": {},
     "output_type": "execute_result"
    }
   ],
   "source": [
    "#1l) \n",
    "sp.diff(x**2/(x**2+2*x), x)"
   ]
  },
  {
   "cell_type": "code",
   "execution_count": 55,
   "id": "b24359bb-8e2b-4bdb-ae50-f4f9cf17193e",
   "metadata": {},
   "outputs": [
    {
     "data": {
      "text/latex": [
       "$\\displaystyle \\frac{2 x + 4}{x - 2} - \\frac{x^{2} + 4 x + 2}{\\left(x - 2\\right)^{2}}$"
      ],
      "text/plain": [
       "(2*x + 4)/(x - 2) - (x**2 + 4*x + 2)/(x - 2)**2"
      ]
     },
     "execution_count": 55,
     "metadata": {},
     "output_type": "execute_result"
    }
   ],
   "source": [
    "#1m)\n",
    "sp.diff((x**2+4*x+2)/(x-2), x)"
   ]
  },
  {
   "cell_type": "code",
   "execution_count": 56,
   "id": "8b766c14-2225-47f7-8abc-598d08367e92",
   "metadata": {},
   "outputs": [
    {
     "data": {
      "text/latex": [
       "$\\displaystyle - \\frac{2 x \\left(x^{3} - 2 x\\right)}{\\left(x^{2} - 1\\right)^{2}} + \\frac{3 x^{2} - 2}{x^{2} - 1}$"
      ],
      "text/plain": [
       "-2*x*(x**3 - 2*x)/(x**2 - 1)**2 + (3*x**2 - 2)/(x**2 - 1)"
      ]
     },
     "execution_count": 56,
     "metadata": {},
     "output_type": "execute_result"
    }
   ],
   "source": [
    "#2a)\n",
    "sp.diff((x**3-2*x)/(x**2-1), x)"
   ]
  },
  {
   "cell_type": "code",
   "execution_count": 59,
   "id": "b6a24b9d-fb5b-4b5c-a1c6-34b6d73912f0",
   "metadata": {},
   "outputs": [
    {
     "data": {
      "text/latex": [
       "$\\displaystyle 2 x \\left(x^{2} - 1\\right) + 2 x \\left(x^{2} + 1\\right)$"
      ],
      "text/plain": [
       "2*x*(x**2 - 1) + 2*x*(x**2 + 1)"
      ]
     },
     "execution_count": 59,
     "metadata": {},
     "output_type": "execute_result"
    }
   ],
   "source": [
    "#2b)\n",
    "sp.diff((x**2+1)*(x**2-1), x)"
   ]
  },
  {
   "cell_type": "code",
   "execution_count": 60,
   "id": "5c1a9208-affa-4514-993c-1747bf866ed2",
   "metadata": {},
   "outputs": [
    {
     "data": {
      "text/latex": [
       "$\\displaystyle - \\frac{3 x^{2} \\cdot \\left(3 x - 4\\right)}{\\left(x^{3} + 7\\right)^{2}} + \\frac{3}{x^{3} + 7}$"
      ],
      "text/plain": [
       "-3*x**2*(3*x - 4)/(x**3 + 7)**2 + 3/(x**3 + 7)"
      ]
     },
     "execution_count": 60,
     "metadata": {},
     "output_type": "execute_result"
    }
   ],
   "source": [
    "#2c)\n",
    "sp.diff((3*x-4)/(x**3+7), x)"
   ]
  },
  {
   "cell_type": "code",
   "execution_count": 61,
   "id": "ee8d1b96-182f-4eb8-b65b-a440b1005c9b",
   "metadata": {},
   "outputs": [
    {
     "data": {
      "text/latex": [
       "$\\displaystyle \\left(15 x^{2} + 30\\right) \\left(x^{3} + 6 x\\right)^{4}$"
      ],
      "text/plain": [
       "(15*x**2 + 30)*(x**3 + 6*x)**4"
      ]
     },
     "execution_count": 61,
     "metadata": {},
     "output_type": "execute_result"
    }
   ],
   "source": [
    "#Oppgave 21\n",
    "#1a)\n",
    "sp.diff((x**3+6*x)**5, x)"
   ]
  },
  {
   "cell_type": "code",
   "execution_count": 63,
   "id": "e6d0f147-43ed-4db7-a341-838194ae6d95",
   "metadata": {},
   "outputs": [
    {
     "data": {
      "text/latex": [
       "$\\displaystyle \\frac{2 x}{\\sqrt{2 x^{2} + 5}}$"
      ],
      "text/plain": [
       "2*x/sqrt(2*x**2 + 5)"
      ]
     },
     "execution_count": 63,
     "metadata": {},
     "output_type": "execute_result"
    }
   ],
   "source": [
    "#1b)\n",
    "sp.diff(sp.sqrt(2*x**2+5), x)"
   ]
  },
  {
   "cell_type": "code",
   "execution_count": 64,
   "id": "385a3490-893b-4d90-a89f-0d19efe646db",
   "metadata": {},
   "outputs": [
    {
     "data": {
      "text/latex": [
       "$\\displaystyle - \\frac{128 x^{5}}{\\left(x^{2} + 3\\right)^{5}} + \\frac{64 x^{3}}{\\left(x^{2} + 3\\right)^{4}}$"
      ],
      "text/plain": [
       "-128*x**5/(x**2 + 3)**5 + 64*x**3/(x**2 + 3)**4"
      ]
     },
     "execution_count": 64,
     "metadata": {},
     "output_type": "execute_result"
    }
   ],
   "source": [
    "#1c)\n",
    "sp.diff(((2*x)/(x**2+3))**4, x)"
   ]
  },
  {
   "cell_type": "code",
   "execution_count": 65,
   "id": "e4d64f4d-6dcd-4837-98ac-dff5b17933ac",
   "metadata": {},
   "outputs": [
    {
     "data": {
      "text/latex": [
       "$\\displaystyle 12.0 x^{3}$"
      ],
      "text/plain": [
       "12.0*x**3"
      ]
     },
     "execution_count": 65,
     "metadata": {},
     "output_type": "execute_result"
    }
   ],
   "source": [
    "#1d)\n",
    "sp.diff((2*x**4+9)*(3/2), x)"
   ]
  },
  {
   "cell_type": "code",
   "execution_count": 69,
   "id": "807cb440-4d4e-473d-9b2f-6c9ada4d4407",
   "metadata": {},
   "outputs": [
    {
     "data": {
      "text/latex": [
       "$\\displaystyle \\frac{d}{d x} \\left( \\frac{1}{\\sqrt{x^{2} + 1}}, \\  x\\right)$"
      ],
      "text/plain": [
       "Derivative((1/sqrt(x**2 + 1), x), x)"
      ]
     },
     "execution_count": 69,
     "metadata": {},
     "output_type": "execute_result"
    }
   ],
   "source": [
    "#1e)\n",
    "sp.diff((1/(sp.sqrt(1+x**2)), x))"
   ]
  },
  {
   "cell_type": "code",
   "execution_count": 71,
   "id": "e57294bd-1ba9-4a9b-abc0-17b63b93fc87",
   "metadata": {},
   "outputs": [
    {
     "data": {
      "text/latex": [
       "$\\displaystyle x^{2} \\cdot \\left(6 x + 6\\right) \\left(x^{2} + 2 x\\right)^{2} + 2 x \\left(x^{2} + 2 x\\right)^{3}$"
      ],
      "text/plain": [
       "x**2*(6*x + 6)*(x**2 + 2*x)**2 + 2*x*(x**2 + 2*x)**3"
      ]
     },
     "execution_count": 71,
     "metadata": {},
     "output_type": "execute_result"
    }
   ],
   "source": [
    "#1f\n",
    "sp.diff(x**2*(x**2+2*x)**3, x)"
   ]
  },
  {
   "cell_type": "code",
   "execution_count": 72,
   "id": "00caf8bc-5dd5-4548-b314-6618e07bea93",
   "metadata": {},
   "outputs": [
    {
     "data": {
      "text/latex": [
       "$\\displaystyle \\frac{x^{2} \\left(x - 1\\right)}{\\sqrt{x^{2} - 2 x}} + 2 x \\sqrt{x^{2} - 2 x}$"
      ],
      "text/plain": [
       "x**2*(x - 1)/sqrt(x**2 - 2*x) + 2*x*sqrt(x**2 - 2*x)"
      ]
     },
     "execution_count": 72,
     "metadata": {},
     "output_type": "execute_result"
    }
   ],
   "source": [
    "#1g)\n",
    "sp.diff(x**2*sp.sqrt(x**2-2*x), x)"
   ]
  },
  {
   "cell_type": "code",
   "execution_count": 73,
   "id": "6e46d9c7-005a-4b4a-b777-923e273393a7",
   "metadata": {},
   "outputs": [
    {
     "data": {
      "text/latex": [
       "$\\displaystyle \\frac{x^{2} \\left(- 6 x - 3\\right)}{\\left(x^{2} + x\\right)^{4}} + \\frac{2 x}{\\left(x^{2} + x\\right)^{3}}$"
      ],
      "text/plain": [
       "x**2*(-6*x - 3)/(x**2 + x)**4 + 2*x/(x**2 + x)**3"
      ]
     },
     "execution_count": 73,
     "metadata": {},
     "output_type": "execute_result"
    }
   ],
   "source": [
    "#1h)\n",
    "sp.diff(x**2/(x**2+x)**3, x)"
   ]
  },
  {
   "cell_type": "code",
   "execution_count": 74,
   "id": "ae5d9e36-d9a3-4aec-8e9c-20a2d29f360f",
   "metadata": {},
   "outputs": [
    {
     "data": {
      "text/latex": [
       "$\\displaystyle 9 x^{2} \\left(x^{2} + 1\\right)^{2} \\left(x^{3} + 1\\right)^{2} + 4 x \\left(x^{2} + 1\\right) \\left(x^{3} + 1\\right)^{3}$"
      ],
      "text/plain": [
       "9*x**2*(x**2 + 1)**2*(x**3 + 1)**2 + 4*x*(x**2 + 1)*(x**3 + 1)**3"
      ]
     },
     "execution_count": 74,
     "metadata": {},
     "output_type": "execute_result"
    }
   ],
   "source": [
    "#1i)\n",
    "sp.diff((x**2+1)**2*(x**3+1)**3, x)"
   ]
  },
  {
   "cell_type": "code",
   "execution_count": 76,
   "id": "afb0e18f-b8ba-4235-af52-53977daf0fc8",
   "metadata": {},
   "outputs": [
    {
     "data": {
      "text/latex": [
       "$\\displaystyle \\left(12 x + 4\\right) \\left(3 x^{2} + 2 x\\right)$"
      ],
      "text/plain": [
       "(12*x + 4)*(3*x**2 + 2*x)"
      ]
     },
     "execution_count": 76,
     "metadata": {},
     "output_type": "execute_result"
    }
   ],
   "source": [
    "#2a)\n",
    "sp.diff(sp.sqrt(3*x**2+2*x)**4, x)"
   ]
  },
  {
   "cell_type": "code",
   "execution_count": 80,
   "id": "2960cc9f-d09d-4bc4-9e83-f52b00dbda46",
   "metadata": {},
   "outputs": [
    {
     "data": {
      "text/latex": [
       "$\\displaystyle 15 x^{2} \\left(x^{2} + 3\\right)^{4} \\left(x^{3} + 3\\right)^{4} + 8 x \\left(x^{2} + 3\\right)^{3} \\left(x^{3} + 3\\right)^{5}$"
      ],
      "text/plain": [
       "15*x**2*(x**2 + 3)**4*(x**3 + 3)**4 + 8*x*(x**2 + 3)**3*(x**3 + 3)**5"
      ]
     },
     "execution_count": 80,
     "metadata": {},
     "output_type": "execute_result"
    }
   ],
   "source": [
    "#2b)\n",
    "sp.diff((x**3+3)**5*(x**2+3)**4, x)"
   ]
  },
  {
   "cell_type": "code",
   "execution_count": 81,
   "id": "6838b1a3-2e4c-47a8-9acc-fd1518588b3d",
   "metadata": {},
   "outputs": [
    {
     "data": {
      "text/latex": [
       "$\\displaystyle \\frac{x^{3}}{\\sqrt{x^{2} + 1}} + 2 x \\sqrt{x^{2} + 1}$"
      ],
      "text/plain": [
       "x**3/sqrt(x**2 + 1) + 2*x*sqrt(x**2 + 1)"
      ]
     },
     "execution_count": 81,
     "metadata": {},
     "output_type": "execute_result"
    }
   ],
   "source": [
    "#2c)\n",
    "sp.diff(sp.sqrt(x**2+1)*x**2, x)"
   ]
  },
  {
   "cell_type": "code",
   "execution_count": 82,
   "id": "46d08703-322d-42db-9726-168cb6489b69",
   "metadata": {},
   "outputs": [
    {
     "data": {
      "text/latex": [
       "$\\displaystyle \\frac{\\left(18 x + 6\\right) \\left(3 x^{2} + 2 x\\right)^{2}}{x^{2}} - \\frac{2 \\left(3 x^{2} + 2 x\\right)^{3}}{x^{3}}$"
      ],
      "text/plain": [
       "(18*x + 6)*(3*x**2 + 2*x)**2/x**2 - 2*(3*x**2 + 2*x)**3/x**3"
      ]
     },
     "execution_count": 82,
     "metadata": {},
     "output_type": "execute_result"
    }
   ],
   "source": [
    "#2d)\n",
    "sp.diff((2*x+3*x**2)**3/x**2, x)"
   ]
  },
  {
   "cell_type": "code",
   "execution_count": 79,
   "id": "9831a591-576e-4f40-8ef1-fc3465372d40",
   "metadata": {},
   "outputs": [
    {
     "data": {
      "text/latex": [
       "$\\displaystyle \\frac{d}{d x} \\left( \\sqrt[3]{x^{4} - 5}, \\  x\\right)$"
      ],
      "text/plain": [
       "Derivative(((x**4 - 5)**(1/3), x), x)"
      ]
     },
     "execution_count": 79,
     "metadata": {},
     "output_type": "execute_result"
    }
   ],
   "source": [
    "#2e)\n",
    "sp.diff((sp.root(x**4-5, 3), x))"
   ]
  },
  {
   "cell_type": "code",
   "execution_count": 85,
   "id": "c5078e09-c150-41c3-afb3-a2d10b4b310e",
   "metadata": {},
   "outputs": [
    {
     "data": {
      "text/latex": [
       "$\\displaystyle - \\frac{2 x^{6}}{\\left(x^{4} - 1\\right)^{\\frac{3}{2}}} + \\frac{3 x^{2}}{\\sqrt{x^{4} - 1}}$"
      ],
      "text/plain": [
       "-2*x**6/(x**4 - 1)**(3/2) + 3*x**2/sqrt(x**4 - 1)"
      ]
     },
     "execution_count": 85,
     "metadata": {},
     "output_type": "execute_result"
    }
   ],
   "source": [
    "#2f)\n",
    "sp.diff((x**3)/(sp.sqrt(x**4-1)), x)"
   ]
  },
  {
   "cell_type": "code",
   "execution_count": 89,
   "id": "159c4236-30f6-427a-9260-d95a643316c5",
   "metadata": {},
   "outputs": [
    {
     "data": {
      "text/latex": [
       "$\\displaystyle \\frac{1}{x}$"
      ],
      "text/plain": [
       "1/x"
      ]
     },
     "execution_count": 89,
     "metadata": {},
     "output_type": "execute_result"
    }
   ],
   "source": [
    "#oppgave 22\n",
    "#1a)\n",
    "sp.diff(sp.log(5*x), x)"
   ]
  },
  {
   "cell_type": "code",
   "execution_count": 87,
   "id": "0f59a361-8cab-443a-a0f6-95e78aaa15a0",
   "metadata": {},
   "outputs": [
    {
     "data": {
      "text/latex": [
       "$\\displaystyle - 2 e^{- 2 x}$"
      ],
      "text/plain": [
       "-2*exp(-2*x)"
      ]
     },
     "execution_count": 87,
     "metadata": {},
     "output_type": "execute_result"
    }
   ],
   "source": [
    "#1b)\n",
    "#b\n",
    "sp.diff(sp.exp(-2*x), x)"
   ]
  },
  {
   "cell_type": "code",
   "execution_count": 88,
   "id": "5258d686-6c5f-45f4-900b-51de507e884d",
   "metadata": {},
   "outputs": [
    {
     "data": {
      "text/latex": [
       "$\\displaystyle \\frac{1}{x}$"
      ],
      "text/plain": [
       "1/x"
      ]
     },
     "execution_count": 88,
     "metadata": {},
     "output_type": "execute_result"
    }
   ],
   "source": [
    "#1c)\n",
    "sp.diff(sp.log(12*x)-3, x)"
   ]
  },
  {
   "cell_type": "code",
   "execution_count": 91,
   "id": "2936de6a-27a4-4906-a303-42a5292ead80",
   "metadata": {},
   "outputs": [
    {
     "data": {
      "text/latex": [
       "$\\displaystyle 2^{x} \\log{\\left(2 \\right)}$"
      ],
      "text/plain": [
       "2**x*log(2)"
      ]
     },
     "execution_count": 91,
     "metadata": {},
     "output_type": "execute_result"
    }
   ],
   "source": [
    "#1d) \n",
    "sp.diff(2**x, x)"
   ]
  },
  {
   "cell_type": "code",
   "execution_count": 92,
   "id": "7972c70a-b8d4-4aba-9498-da1265085075",
   "metadata": {},
   "outputs": [
    {
     "data": {
      "text/latex": [
       "$\\displaystyle 3 e^{3 x + 5}$"
      ],
      "text/plain": [
       "3*exp(3*x + 5)"
      ]
     },
     "execution_count": 92,
     "metadata": {},
     "output_type": "execute_result"
    }
   ],
   "source": [
    "#1e)\n",
    "sp.diff(sp.exp(3*x+5), x)"
   ]
  },
  {
   "cell_type": "code",
   "execution_count": 93,
   "id": "5e65055e-dd69-4b90-a82b-14f3a55bc54c",
   "metadata": {},
   "outputs": [
    {
     "data": {
      "text/latex": [
       "$\\displaystyle \\frac{5 x^{4}}{x^{5} + 1}$"
      ],
      "text/plain": [
       "5*x**4/(x**5 + 1)"
      ]
     },
     "execution_count": 93,
     "metadata": {},
     "output_type": "execute_result"
    }
   ],
   "source": [
    "#1f)\n",
    "sp.diff(sp.log(x**5+1), x)"
   ]
  },
  {
   "cell_type": "code",
   "execution_count": 94,
   "id": "520bd0e2-ed88-4549-a5be-0837f406bab1",
   "metadata": {},
   "outputs": [
    {
     "data": {
      "text/latex": [
       "$\\displaystyle \\left(8 x + 8\\right) e^{4 x^{2} + 8 x}$"
      ],
      "text/plain": [
       "(8*x + 8)*exp(4*x**2 + 8*x)"
      ]
     },
     "execution_count": 94,
     "metadata": {},
     "output_type": "execute_result"
    }
   ],
   "source": [
    "#1g)\n",
    "sp.diff(sp.exp(4*x**2+8*x), x)"
   ]
  },
  {
   "cell_type": "code",
   "execution_count": 95,
   "id": "8e6fbbc4-5f9b-42c5-882d-06fe3a16d449",
   "metadata": {},
   "outputs": [
    {
     "data": {
      "text/latex": [
       "$\\displaystyle - \\frac{1}{x}$"
      ],
      "text/plain": [
       "-1/x"
      ]
     },
     "execution_count": 95,
     "metadata": {},
     "output_type": "execute_result"
    }
   ],
   "source": [
    "#1h)\n",
    "sp.diff(sp.log(1/x), x)"
   ]
  },
  {
   "cell_type": "code",
   "execution_count": 96,
   "id": "6b59b84c-b5a1-4e10-8c9c-6e0643fd17f1",
   "metadata": {},
   "outputs": [
    {
     "data": {
      "text/latex": [
       "$\\displaystyle 12 e^{4 x} + \\frac{6}{x}$"
      ],
      "text/plain": [
       "12*exp(4*x) + 6/x"
      ]
     },
     "execution_count": 96,
     "metadata": {},
     "output_type": "execute_result"
    }
   ],
   "source": [
    "#1i)\n",
    "sp.diff(6*sp.log(x)+3*sp.exp(4*x), x)"
   ]
  },
  {
   "cell_type": "code",
   "execution_count": 97,
   "id": "9df0de55-ef29-4d5e-bc18-b5e9bb44497a",
   "metadata": {},
   "outputs": [
    {
     "data": {
      "text/latex": [
       "$\\displaystyle - x e^{- x} + e^{- x}$"
      ],
      "text/plain": [
       "-x*exp(-x) + exp(-x)"
      ]
     },
     "execution_count": 97,
     "metadata": {},
     "output_type": "execute_result"
    }
   ],
   "source": [
    "#1j)\n",
    "sp.diff(x*sp.exp(-x), x)"
   ]
  },
  {
   "cell_type": "code",
   "execution_count": 98,
   "id": "3b0946f8-1ba4-4d6a-a9ec-191d7b2212a4",
   "metadata": {},
   "outputs": [
    {
     "data": {
      "text/latex": [
       "$\\displaystyle \\frac{2 x^{3}}{x^{2} + 2} + 2 x \\log{\\left(x^{2} + 2 \\right)}$"
      ],
      "text/plain": [
       "2*x**3/(x**2 + 2) + 2*x*log(x**2 + 2)"
      ]
     },
     "execution_count": 98,
     "metadata": {},
     "output_type": "execute_result"
    }
   ],
   "source": [
    "#1k)\n",
    "sp.diff(x**2*sp.log(x**2+2), x)"
   ]
  },
  {
   "cell_type": "code",
   "execution_count": 99,
   "id": "b80f895e-2f3d-43fc-82b8-32748ed39edf",
   "metadata": {},
   "outputs": [
    {
     "data": {
      "text/latex": [
       "$\\displaystyle 2 x^{3} e^{2 x} + 3 x^{2} e^{2 x}$"
      ],
      "text/plain": [
       "2*x**3*exp(2*x) + 3*x**2*exp(2*x)"
      ]
     },
     "execution_count": 99,
     "metadata": {},
     "output_type": "execute_result"
    }
   ],
   "source": [
    "#2a)\n",
    "sp.diff(x**3*sp.exp(2*x), x)"
   ]
  },
  {
   "cell_type": "code",
   "execution_count": 101,
   "id": "da118a82-b236-4963-8b14-97d35a2df183",
   "metadata": {},
   "outputs": [
    {
     "data": {
      "text/latex": [
       "$\\displaystyle - \\frac{2 x \\log{\\left(2 x - 1 \\right)}}{\\left(x^{2} + 1\\right)^{2}} + \\frac{2}{\\left(2 x - 1\\right) \\left(x^{2} + 1\\right)}$"
      ],
      "text/plain": [
       "-2*x*log(2*x - 1)/(x**2 + 1)**2 + 2/((2*x - 1)*(x**2 + 1))"
      ]
     },
     "execution_count": 101,
     "metadata": {},
     "output_type": "execute_result"
    }
   ],
   "source": [
    "#2b)\n",
    "sp.diff(sp.log(x*2-1)/(x**2+1), x)"
   ]
  },
  {
   "cell_type": "code",
   "execution_count": 102,
   "id": "4196daff-cf95-4c2a-a3b9-85eede20f6ce",
   "metadata": {},
   "outputs": [
    {
     "data": {
      "text/latex": [
       "$\\displaystyle \\frac{2 x^{3}}{x^{2} + 2} + 2 x \\log{\\left(x^{2} + 2 \\right)}$"
      ],
      "text/plain": [
       "2*x**3/(x**2 + 2) + 2*x*log(x**2 + 2)"
      ]
     },
     "execution_count": 102,
     "metadata": {},
     "output_type": "execute_result"
    }
   ],
   "source": [
    "#2c)\n",
    "sp.diff(x**2*sp.log(x**2+2), x)"
   ]
  },
  {
   "cell_type": "code",
   "execution_count": 103,
   "id": "6ec483e3-c890-4b80-ae79-50f1f5eb7d5e",
   "metadata": {},
   "outputs": [
    {
     "data": {
      "text/latex": [
       "$\\displaystyle - \\frac{2 x e^{- x}}{\\left(x^{2} + 1\\right)^{2}} - \\frac{e^{- x}}{x^{2} + 1}$"
      ],
      "text/plain": [
       "-2*x*exp(-x)/(x**2 + 1)**2 - exp(-x)/(x**2 + 1)"
      ]
     },
     "execution_count": 103,
     "metadata": {},
     "output_type": "execute_result"
    }
   ],
   "source": [
    "#2d)\n",
    "sp.diff((sp.exp(-x))/(x**2+1), x)"
   ]
  }
 ],
 "metadata": {
  "kernelspec": {
   "display_name": "Python 3 (ipykernel)",
   "language": "python",
   "name": "python3"
  },
  "language_info": {
   "codemirror_mode": {
    "name": "ipython",
    "version": 3
   },
   "file_extension": ".py",
   "mimetype": "text/x-python",
   "name": "python",
   "nbconvert_exporter": "python",
   "pygments_lexer": "ipython3",
   "version": "3.9.13"
  }
 },
 "nbformat": 4,
 "nbformat_minor": 5
}
